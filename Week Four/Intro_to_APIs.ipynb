{
 "cells": [
  {
   "attachments": {},
   "cell_type": "markdown",
   "metadata": {},
   "source": [
    "# Coding Temple's Data Analytics Program\n",
    "---\n",
    "## Intro to API's Assignment\n",
    "---\n",
    "### Problem 1:\n",
    "Check out this Pokemon API https://pokeapi.co/\n",
    "Use the requests package to connect to this API and get and store data for 5 different pokemon.\n",
    "Get the pokemons: name, atleast one ability's name, base_experience, and the URL for its sprite (an image that shows up on screen) for the 'front_shiny', attack base_state, hp base_stat, defense base_stat\n",
    "\n",
    "**BONUS POINTS IF YOU CAN POPULATE THE IMAGE!**"
   ]
  },
  {
   "cell_type": "code",
   "execution_count": 1,
   "metadata": {},
   "outputs": [
    {
     "name": "stdout",
     "output_type": "stream",
     "text": [
      "<Response [200]>\n"
     ]
    },
    {
     "data": {
      "text/plain": [
       "[{'charmander': {'name': 'charmander',\n",
       "   'ability': 'blaze',\n",
       "   'base_experience': 62,\n",
       "   'sprite_url': 'https://raw.githubusercontent.com/PokeAPI/sprites/master/sprites/pokemon/shiny/4.png',\n",
       "   'attack_base_stat': 52,\n",
       "   'hp_base_stat': 39,\n",
       "   'defense_base_stat': 43}},\n",
       " {'pikachu': {'name': 'pikachu',\n",
       "   'ability': 'static',\n",
       "   'base_experience': 112,\n",
       "   'sprite_url': 'https://raw.githubusercontent.com/PokeAPI/sprites/master/sprites/pokemon/shiny/25.png',\n",
       "   'attack_base_stat': 55,\n",
       "   'hp_base_stat': 35,\n",
       "   'defense_base_stat': 40}},\n",
       " {'bulbasaur': {'name': 'bulbasaur',\n",
       "   'ability': 'overgrow',\n",
       "   'base_experience': 64,\n",
       "   'sprite_url': 'https://raw.githubusercontent.com/PokeAPI/sprites/master/sprites/pokemon/shiny/1.png',\n",
       "   'attack_base_stat': 49,\n",
       "   'hp_base_stat': 45,\n",
       "   'defense_base_stat': 49}},\n",
       " {'squirtle': {'name': 'squirtle',\n",
       "   'ability': 'torrent',\n",
       "   'base_experience': 63,\n",
       "   'sprite_url': 'https://raw.githubusercontent.com/PokeAPI/sprites/master/sprites/pokemon/shiny/7.png',\n",
       "   'attack_base_stat': 48,\n",
       "   'hp_base_stat': 44,\n",
       "   'defense_base_stat': 65}},\n",
       " {'onix': {'name': 'onix',\n",
       "   'ability': 'rock-head',\n",
       "   'base_experience': 77,\n",
       "   'sprite_url': 'https://raw.githubusercontent.com/PokeAPI/sprites/master/sprites/pokemon/shiny/95.png',\n",
       "   'attack_base_stat': 45,\n",
       "   'hp_base_stat': 35,\n",
       "   'defense_base_stat': 160}}]"
      ]
     },
     "metadata": {},
     "output_type": "display_data"
    }
   ],
   "source": [
    "import requests, json\n",
    "\n",
    "url = \"https://pokeapi.co/api/v2/pokemon/charmander/\"\n",
    "\n",
    "response = requests.get(url)\n",
    "print(response)\n",
    "\n",
    "response.json()\n",
    "def get_poke_info(poke_name:str):\n",
    "    data = requests.get(f'https://pokeapi.co/api/v2/pokemon/{poke_name}').json()\n",
    "    d = {}\n",
    "    d[poke_name] = {\n",
    "        'name' : data['name'],\n",
    "        'ability' : data['abilities'][0]['ability']['name'],\n",
    "        'base_experience' : data['base_experience'],\n",
    "        'sprite_url' : data['sprites']['front_shiny'],\n",
    "        'attack_base_stat' : data['stats'][1]['base_stat'],\n",
    "        'hp_base_stat' : data['stats'][0]['base_stat'],\n",
    "        'defense_base_stat' : data['stats'][2]['base_stat']\n",
    "    }\n",
    "    return d\n",
    "charmander = get_poke_info('charmander')\n",
    "charmander\n",
    "\n",
    "pikachu = get_poke_info('pikachu')\n",
    "pikachu\n",
    "\n",
    "bulbasaur = get_poke_info('bulbasaur')\n",
    "bulbasaur\n",
    "\n",
    "squirtle = get_poke_info('squirtle')\n",
    "squirtle\n",
    "\n",
    "onix = get_poke_info('onix')\n",
    "onix\n",
    "\n",
    "pokemon = [charmander, pikachu, bulbasaur, squirtle, onix]\n",
    "display(pokemon)\n",
    "\n",
    "\n"
   ]
  },
  {
   "cell_type": "code",
   "execution_count": 2,
   "metadata": {},
   "outputs": [
    {
     "data": {
      "image/png": "[encoded data removed]",
      "text/plain": [
       "<PIL.PngImagePlugin.PngImageFile image mode=P size=96x96>"
      ]
     },
     "execution_count": 2,
     "metadata": {},
     "output_type": "execute_result"
    }
   ],
   "source": [
    "# It's picture time\n",
    "\n",
    "import pandas as pd\n",
    "from PIL import Image\n",
    "from io import BytesIO\n",
    "\n",
    "# Charmander\n",
    "Image.open(BytesIO(requests.get(requests.get('https://pokeapi.co/api/v2/pokemon/charmander').json()['sprites']['front_shiny']).content))\n",
    "\n",
    "# Pikachu\n",
    "Image.open(BytesIO(requests.get(requests.get('https://pokeapi.co/api/v2/pokemon/pikachu').json()['sprites']['front_shiny']).content))\n",
    "\n",
    "# Bulbasaur\n",
    "Image.open(BytesIO(requests.get(requests.get('https://pokeapi.co/api/v2/pokemon/bulbasaur').json()['sprites']['front_shiny']).content))\n",
    "\n",
    "# Squirtle\n",
    "Image.open(BytesIO(requests.get(requests.get('https://pokeapi.co/api/v2/pokemon/squirtle').json()['sprites']['front_shiny']).content))\n",
    "\n",
    "# Onix\n",
    "Image.open(BytesIO(requests.get(requests.get('https://pokeapi.co/api/v2/pokemon/onix').json()['sprites']['front_shiny']).content))\n"
   ]
  },
  {
   "attachments": {},
   "cell_type": "markdown",
   "metadata": {},
   "source": [
    "### Problem 2:\n",
    "\n",
    "I want to build the best Pokemon team I can and I need your help to do so! Using the API, build me a team of 6 pokemon who's base-stats are above 60. Return any additional information you think is needed to help understand why you chose that pokemon for the team!"
   ]
  },
  {
   "cell_type": "code",
   "execution_count": 3,
   "metadata": {},
   "outputs": [
    {
     "name": "stdout",
     "output_type": "stream",
     "text": [
      "<Response [200]>\n"
     ]
    },
    {
     "data": {
      "text/plain": [
       "[{'charizard': {'name': 'charizard',\n",
       "   'attack_base_stat': 84,\n",
       "   'hp_base_stat': 78,\n",
       "   'defense_base_stat': 78}},\n",
       " {'blastoise': {'name': 'blastoise',\n",
       "   'attack_base_stat': 83,\n",
       "   'hp_base_stat': 79,\n",
       "   'defense_base_stat': 100}},\n",
       " {'venusaur': {'name': 'venusaur',\n",
       "   'attack_base_stat': 82,\n",
       "   'hp_base_stat': 80,\n",
       "   'defense_base_stat': 83}},\n",
       " {'steelix': {'name': 'steelix',\n",
       "   'attack_base_stat': 85,\n",
       "   'hp_base_stat': 75,\n",
       "   'defense_base_stat': 200}},\n",
       " {'arceus': {'name': 'arceus',\n",
       "   'attack_base_stat': 120,\n",
       "   'hp_base_stat': 120,\n",
       "   'defense_base_stat': 120}},\n",
       " {'mewtwo': {'name': 'mewtwo',\n",
       "   'attack_base_stat': 110,\n",
       "   'hp_base_stat': 106,\n",
       "   'defense_base_stat': 90}}]"
      ]
     },
     "execution_count": 3,
     "metadata": {},
     "output_type": "execute_result"
    }
   ],
   "source": [
    "url = \"https://pokeapi.co/api/v2/pokemon/charmander/\"\n",
    "\n",
    "response = requests.get(url)\n",
    "print(response)\n",
    "\n",
    "response.json()\n",
    "def get_poke_team(poke_name:str):\n",
    "    data = requests.get(f'https://pokeapi.co/api/v2/pokemon/{poke_name}').json()\n",
    "    d = {}\n",
    "    d[poke_name] = {\n",
    "        'name' : data['name'],\n",
    "        'attack_base_stat' : data['stats'][1]['base_stat'],\n",
    "        'hp_base_stat' : data['stats'][0]['base_stat'],\n",
    "        'defense_base_stat' : data['stats'][2]['base_stat']\n",
    "    }\n",
    "    return d\n",
    "\n",
    "# Team Member One\n",
    "charizard = get_poke_team('charizard')\n",
    "charizard\n",
    "\n",
    "# Team Member Two\n",
    "blastoise = get_poke_team('blastoise')\n",
    "blastoise\n",
    "\n",
    "# Team Member Three\n",
    "venusaur = get_poke_team('venusaur')\n",
    "venusaur\n",
    "\n",
    "# Team Member Four\n",
    "steelix = get_poke_team('steelix')\n",
    "steelix\n",
    "\n",
    "# Team Member Five\n",
    "arceus = get_poke_team('arceus')\n",
    "arceus\n",
    "\n",
    "# Team Member Six\n",
    "mewtwo = get_poke_team('mewtwo')\n",
    "mewtwo\n",
    "\n",
    "team_andrew = [charizard, blastoise, venusaur, steelix, arceus, mewtwo]\n",
    "team_andrew\n",
    "\n",
    "# Based on my extensive knowledge of pokemon that I gathered as a child, \n",
    "# the way to defeat the gym bosses was to have a diversive team. \n",
    "# Therefore, if one gym boss was of a leaf variation, charizard was perfect. \n",
    "# However, if the gym boss was of a water variation, charizard was not the best choice.\n",
    "# So with creating this team, I wanted to have a differing portfolio of members \n",
    "# along with some of the most powerful pokemon."
   ]
  },
  {
   "attachments": {},
   "cell_type": "markdown",
   "metadata": {},
   "source": [
    "### Problem 3:\n",
    "\n",
    "Create a function that does the following:\n",
    "* Input: pokemon_name(user_defined) -> str\n",
    "* Output: list object containing a dictionary of values from the response object.\n",
    "* Please include the type, the most current raritey level, at least one held item, and all stats"
   ]
  },
  {
   "cell_type": "code",
   "execution_count": 4,
   "metadata": {},
   "outputs": [
    {
     "name": "stdout",
     "output_type": "stream",
     "text": [
      "<Response [200]>\n"
     ]
    },
    {
     "data": {
      "text/plain": [
       "{'ditto': {'type': 'normal',\n",
       "  'most_current_rarity_level': 50,\n",
       "  'held_item': 'metal-powder',\n",
       "  'attack_base_stat': 48,\n",
       "  'hp_base_stat': 48,\n",
       "  'defense_base_stat': 48}}"
      ]
     },
     "metadata": {},
     "output_type": "display_data"
    }
   ],
   "source": [
    "url = 'https://pokeapi.co/api/v2/pokemon/ditto'\n",
    "\n",
    "response = requests.get(url)\n",
    "print(response)\n",
    "\n",
    "response.json()\n",
    "def get_poke_name(poke_name:str):\n",
    "    data = requests.get(f'https://pokeapi.co/api/v2/pokemon/{poke_name}').json()\n",
    "    d = {}\n",
    "    d[poke_name] = {\n",
    "        'type' : data['types'][0]['type']['name'],\n",
    "        'most_current_rarity_level' : data['held_items'][1]['version_details'][1]['rarity'],\n",
    "        'held_item' : data['held_items'][0]['item']['name'],\n",
    "        'attack_base_stat' : data['stats'][1]['base_stat'],\n",
    "        'hp_base_stat' : data['stats'][0]['base_stat'],\n",
    "        'defense_base_stat' : data['stats'][2]['base_stat']\n",
    "    }\n",
    "    return d\n",
    "\n",
    "display(get_poke_name('ditto'))\n",
    "\n",
    "# I believe that I have the right code for the most_current_rarity_level, however the output is not displaying the correct rarity  "
   ]
  },
  {
   "cell_type": "code",
   "execution_count": null,
   "metadata": {},
   "outputs": [],
   "source": []
  }
 ],
 "metadata": {
  "kernelspec": {
   "display_name": "Python 3",
   "language": "python",
   "name": "python3"
  },
  "language_info": {
   "codemirror_mode": {
    "name": "ipython",
    "version": 3
   },
   "file_extension": ".py",
   "mimetype": "text/x-python",
   "name": "python",
   "nbconvert_exporter": "python",
   "pygments_lexer": "ipython3",
   "version": "3.11.3"
  },
  "orig_nbformat": 4,
  "vscode": {
   "interpreter": {
    "hash": "26de051ba29f2982a8de78e945f0abaf191376122a1563185a90213a26c5da77"
   }
  }
 },
 "nbformat": 4,
 "nbformat_minor": 2
}
