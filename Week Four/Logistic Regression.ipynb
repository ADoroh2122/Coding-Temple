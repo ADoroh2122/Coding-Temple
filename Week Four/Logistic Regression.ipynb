{
 "cells": [
  {
   "cell_type": "markdown",
   "metadata": {},
   "source": [
    "# Logistic Regression Practice\n",
    "**Possums**\n",
    "\n",
    "<img src=\"./images/pos2.jpg\" style=\"height: 250px\">\n",
    "\n",
    "*The common brushtail possum (Trichosurus vulpecula, from the Greek for \"furry tailed\" and the Latin for \"little fox\", previously in the genus Phalangista) is a nocturnal, semi-arboreal marsupial of the family Phalangeridae, native to Australia, and the second-largest of the possums.* -[Wikipedia](https://en.wikipedia.org/wiki/Common_brushtail_possum)"
   ]
  },
  {
   "cell_type": "code",
   "execution_count": 32,
   "metadata": {},
   "outputs": [],
   "source": [
    "# Imports\n",
    "import pandas as pd\n",
    "from sklearn.linear_model import LogisticRegression\n",
    "from sklearn.model_selection import train_test_split\n",
    "from sklearn.metrics import ConfusionMatrixDisplay"
   ]
  },
  {
   "cell_type": "markdown",
   "metadata": {},
   "source": [
    "### We are trying to predict where a possum lives. In our dataset, the 'pop' column either lists 'Vic' or 'other', with 'Vic' short for Victoria. Our goal is to make a classification model that will predict whether a possum lives in Victoria or somewhere else."
   ]
  },
  {
   "cell_type": "markdown",
   "metadata": {},
   "source": [
    "### Get the data\n",
    "\n",
    "Read in the `possum.csv` data (located in the `data` folder)."
   ]
  },
  {
   "cell_type": "code",
   "execution_count": 2,
   "metadata": {},
   "outputs": [
    {
     "data": {
      "text/html": [
       "<div>\n",
       "<style scoped>\n",
       "    .dataframe tbody tr th:only-of-type {\n",
       "        vertical-align: middle;\n",
       "    }\n",
       "\n",
       "    .dataframe tbody tr th {\n",
       "        vertical-align: top;\n",
       "    }\n",
       "\n",
       "    .dataframe thead th {\n",
       "        text-align: right;\n",
       "    }\n",
       "</style>\n",
       "<table border=\"1\" class=\"dataframe\">\n",
       "  <thead>\n",
       "    <tr style=\"text-align: right;\">\n",
       "      <th></th>\n",
       "      <th>site</th>\n",
       "      <th>pop</th>\n",
       "      <th>sex</th>\n",
       "      <th>age</th>\n",
       "      <th>head_l</th>\n",
       "      <th>skull_w</th>\n",
       "      <th>total_l</th>\n",
       "      <th>tail_l</th>\n",
       "    </tr>\n",
       "  </thead>\n",
       "  <tbody>\n",
       "    <tr>\n",
       "      <th>0</th>\n",
       "      <td>1</td>\n",
       "      <td>Vic</td>\n",
       "      <td>m</td>\n",
       "      <td>8.0</td>\n",
       "      <td>94.1</td>\n",
       "      <td>60.4</td>\n",
       "      <td>89.0</td>\n",
       "      <td>36.0</td>\n",
       "    </tr>\n",
       "    <tr>\n",
       "      <th>1</th>\n",
       "      <td>1</td>\n",
       "      <td>Vic</td>\n",
       "      <td>f</td>\n",
       "      <td>6.0</td>\n",
       "      <td>92.5</td>\n",
       "      <td>57.6</td>\n",
       "      <td>91.5</td>\n",
       "      <td>36.5</td>\n",
       "    </tr>\n",
       "    <tr>\n",
       "      <th>2</th>\n",
       "      <td>1</td>\n",
       "      <td>Vic</td>\n",
       "      <td>f</td>\n",
       "      <td>6.0</td>\n",
       "      <td>94.0</td>\n",
       "      <td>60.0</td>\n",
       "      <td>95.5</td>\n",
       "      <td>39.0</td>\n",
       "    </tr>\n",
       "    <tr>\n",
       "      <th>3</th>\n",
       "      <td>1</td>\n",
       "      <td>Vic</td>\n",
       "      <td>f</td>\n",
       "      <td>6.0</td>\n",
       "      <td>93.2</td>\n",
       "      <td>57.1</td>\n",
       "      <td>92.0</td>\n",
       "      <td>38.0</td>\n",
       "    </tr>\n",
       "    <tr>\n",
       "      <th>4</th>\n",
       "      <td>1</td>\n",
       "      <td>Vic</td>\n",
       "      <td>f</td>\n",
       "      <td>2.0</td>\n",
       "      <td>91.5</td>\n",
       "      <td>56.3</td>\n",
       "      <td>85.5</td>\n",
       "      <td>36.0</td>\n",
       "    </tr>\n",
       "  </tbody>\n",
       "</table>\n",
       "</div>"
      ],
      "text/plain": [
       "   site  pop sex  age  head_l  skull_w  total_l  tail_l\n",
       "0     1  Vic   m  8.0    94.1     60.4     89.0    36.0\n",
       "1     1  Vic   f  6.0    92.5     57.6     91.5    36.5\n",
       "2     1  Vic   f  6.0    94.0     60.0     95.5    39.0\n",
       "3     1  Vic   f  6.0    93.2     57.1     92.0    38.0\n",
       "4     1  Vic   f  2.0    91.5     56.3     85.5    36.0"
      ]
     },
     "execution_count": 2,
     "metadata": {},
     "output_type": "execute_result"
    }
   ],
   "source": [
    "df = pd.read_csv(r'data/possum.csv')\n",
    "df.head()"
   ]
  },
  {
   "cell_type": "code",
   "execution_count": 3,
   "metadata": {},
   "outputs": [
    {
     "data": {
      "text/plain": [
       "(104, 8)"
      ]
     },
     "execution_count": 3,
     "metadata": {},
     "output_type": "execute_result"
    }
   ],
   "source": [
    "# How much data do I have?\n",
    "df.shape"
   ]
  },
  {
   "cell_type": "code",
   "execution_count": 4,
   "metadata": {},
   "outputs": [
    {
     "name": "stdout",
     "output_type": "stream",
     "text": [
      "<class 'pandas.core.frame.DataFrame'>\n",
      "RangeIndex: 104 entries, 0 to 103\n",
      "Data columns (total 8 columns):\n",
      " #   Column   Non-Null Count  Dtype  \n",
      "---  ------   --------------  -----  \n",
      " 0   site     104 non-null    int64  \n",
      " 1   pop      104 non-null    object \n",
      " 2   sex      104 non-null    object \n",
      " 3   age      102 non-null    float64\n",
      " 4   head_l   104 non-null    float64\n",
      " 5   skull_w  104 non-null    float64\n",
      " 6   total_l  104 non-null    float64\n",
      " 7   tail_l   104 non-null    float64\n",
      "dtypes: float64(5), int64(1), object(2)\n",
      "memory usage: 6.6+ KB\n"
     ]
    }
   ],
   "source": [
    "df.info()"
   ]
  },
  {
   "cell_type": "code",
   "execution_count": 5,
   "metadata": {},
   "outputs": [
    {
     "data": {
      "text/plain": [
       "other    0.557692\n",
       "Vic      0.442308\n",
       "Name: pop, dtype: float64"
      ]
     },
     "execution_count": 5,
     "metadata": {},
     "output_type": "execute_result"
    }
   ],
   "source": [
    "# Baseline Score\n",
    "# For regression - This is our model's performance if I guessed the mean each time. \n",
    "# R2 (close to one as possible), mean_squared_error (low as possible), mean_absolute_error\n",
    "\n",
    "# See DummyRegressor()\n",
    "# dr = DummyRegressor(strategy = 'mean')\n",
    "# dr.fit(X_train, y_train)\n",
    "# dr.score(X_train, y_train) <-- Our baseline R2 score\n",
    "\n",
    "# For Classification\n",
    "# The percentage in the majority class. (i.e. Predicting 'other' every single time)\n",
    "\n",
    "df['pop'].value_counts(normalize=True)\n",
    "\n",
    "# My baseline accuracy is 55.8%. If I had a model predict 'other' each time, \n",
    "# it would be right 55.8% of the time. THIS is our goal to beat! Our Model needs to beat 55.8% of the majority class."
   ]
  },
  {
   "cell_type": "markdown",
   "metadata": {},
   "source": [
    "### Preprocessing\n",
    "\n",
    "> Check for & deal with any missing values.  \n",
    "Convert categorical columns to numeric.  \n",
    "Do any other preprocessing you feel is necessary."
   ]
  },
  {
   "cell_type": "code",
   "execution_count": 6,
   "metadata": {},
   "outputs": [
    {
     "data": {
      "text/plain": [
       "site       0\n",
       "pop        0\n",
       "sex        0\n",
       "age        2\n",
       "head_l     0\n",
       "skull_w    0\n",
       "total_l    0\n",
       "tail_l     0\n",
       "dtype: int64"
      ]
     },
     "execution_count": 6,
     "metadata": {},
     "output_type": "execute_result"
    }
   ],
   "source": [
    "df.isnull().sum()\n"
   ]
  },
  {
   "cell_type": "code",
   "execution_count": 7,
   "metadata": {},
   "outputs": [],
   "source": [
    "# Deal with the missing values\n",
    "# We could simply drop the two rows that had a missing age\n",
    "# Or let's just fill it with the mean\n",
    "\n",
    "# The reason we need to do this because we can not fil a model\n",
    "# that has ANY missing values\n",
    "\n",
    "mean_value = df['age'].mean()\n"
   ]
  },
  {
   "cell_type": "code",
   "execution_count": 8,
   "metadata": {},
   "outputs": [
    {
     "data": {
      "text/plain": [
       "site       0\n",
       "pop        0\n",
       "sex        0\n",
       "age        0\n",
       "head_l     0\n",
       "skull_w    0\n",
       "total_l    0\n",
       "tail_l     0\n",
       "dtype: int64"
      ]
     },
     "execution_count": 8,
     "metadata": {},
     "output_type": "execute_result"
    }
   ],
   "source": [
    "df['age'].fillna(mean_value, inplace = True)\n",
    "df.isnull().sum()"
   ]
  },
  {
   "cell_type": "code",
   "execution_count": 9,
   "metadata": {},
   "outputs": [
    {
     "data": {
      "text/plain": [
       "site         int64\n",
       "pop         object\n",
       "sex         object\n",
       "age        float64\n",
       "head_l     float64\n",
       "skull_w    float64\n",
       "total_l    float64\n",
       "tail_l     float64\n",
       "dtype: object"
      ]
     },
     "execution_count": 9,
     "metadata": {},
     "output_type": "execute_result"
    }
   ],
   "source": [
    "df.dtypes\n"
   ]
  },
  {
   "cell_type": "code",
   "execution_count": 10,
   "metadata": {},
   "outputs": [
    {
     "data": {
      "text/plain": [
       "0      1\n",
       "1      0\n",
       "2      0\n",
       "3      0\n",
       "4      0\n",
       "      ..\n",
       "99     1\n",
       "100    1\n",
       "101    0\n",
       "102    1\n",
       "103    0\n",
       "Name: sex, Length: 104, dtype: int64"
      ]
     },
     "execution_count": 10,
     "metadata": {},
     "output_type": "execute_result"
    }
   ],
   "source": [
    "df['sex'].map({'m':1, 'f':0})"
   ]
  },
  {
   "cell_type": "code",
   "execution_count": 11,
   "metadata": {},
   "outputs": [
    {
     "data": {
      "text/html": [
       "<div>\n",
       "<style scoped>\n",
       "    .dataframe tbody tr th:only-of-type {\n",
       "        vertical-align: middle;\n",
       "    }\n",
       "\n",
       "    .dataframe tbody tr th {\n",
       "        vertical-align: top;\n",
       "    }\n",
       "\n",
       "    .dataframe thead th {\n",
       "        text-align: right;\n",
       "    }\n",
       "</style>\n",
       "<table border=\"1\" class=\"dataframe\">\n",
       "  <thead>\n",
       "    <tr style=\"text-align: right;\">\n",
       "      <th></th>\n",
       "      <th>site</th>\n",
       "      <th>pop</th>\n",
       "      <th>age</th>\n",
       "      <th>head_l</th>\n",
       "      <th>skull_w</th>\n",
       "      <th>total_l</th>\n",
       "      <th>tail_l</th>\n",
       "      <th>sex_m</th>\n",
       "    </tr>\n",
       "  </thead>\n",
       "  <tbody>\n",
       "    <tr>\n",
       "      <th>0</th>\n",
       "      <td>1</td>\n",
       "      <td>Vic</td>\n",
       "      <td>8.0</td>\n",
       "      <td>94.1</td>\n",
       "      <td>60.4</td>\n",
       "      <td>89.0</td>\n",
       "      <td>36.0</td>\n",
       "      <td>1</td>\n",
       "    </tr>\n",
       "    <tr>\n",
       "      <th>1</th>\n",
       "      <td>1</td>\n",
       "      <td>Vic</td>\n",
       "      <td>6.0</td>\n",
       "      <td>92.5</td>\n",
       "      <td>57.6</td>\n",
       "      <td>91.5</td>\n",
       "      <td>36.5</td>\n",
       "      <td>0</td>\n",
       "    </tr>\n",
       "    <tr>\n",
       "      <th>2</th>\n",
       "      <td>1</td>\n",
       "      <td>Vic</td>\n",
       "      <td>6.0</td>\n",
       "      <td>94.0</td>\n",
       "      <td>60.0</td>\n",
       "      <td>95.5</td>\n",
       "      <td>39.0</td>\n",
       "      <td>0</td>\n",
       "    </tr>\n",
       "    <tr>\n",
       "      <th>3</th>\n",
       "      <td>1</td>\n",
       "      <td>Vic</td>\n",
       "      <td>6.0</td>\n",
       "      <td>93.2</td>\n",
       "      <td>57.1</td>\n",
       "      <td>92.0</td>\n",
       "      <td>38.0</td>\n",
       "      <td>0</td>\n",
       "    </tr>\n",
       "    <tr>\n",
       "      <th>4</th>\n",
       "      <td>1</td>\n",
       "      <td>Vic</td>\n",
       "      <td>2.0</td>\n",
       "      <td>91.5</td>\n",
       "      <td>56.3</td>\n",
       "      <td>85.5</td>\n",
       "      <td>36.0</td>\n",
       "      <td>0</td>\n",
       "    </tr>\n",
       "  </tbody>\n",
       "</table>\n",
       "</div>"
      ],
      "text/plain": [
       "   site  pop  age  head_l  skull_w  total_l  tail_l  sex_m\n",
       "0     1  Vic  8.0    94.1     60.4     89.0    36.0      1\n",
       "1     1  Vic  6.0    92.5     57.6     91.5    36.5      0\n",
       "2     1  Vic  6.0    94.0     60.0     95.5    39.0      0\n",
       "3     1  Vic  6.0    93.2     57.1     92.0    38.0      0\n",
       "4     1  Vic  2.0    91.5     56.3     85.5    36.0      0"
      ]
     },
     "execution_count": 11,
     "metadata": {},
     "output_type": "execute_result"
    }
   ],
   "source": [
    "# Convert 'sex' m/f to 1/0\n",
    "df['sex_m'] = df['sex'].map({'m':1, 'f':0})\n",
    "df.drop(columns = 'sex', inplace = True)\n",
    "df.head()\n",
    "\n"
   ]
  },
  {
   "cell_type": "code",
   "execution_count": 12,
   "metadata": {},
   "outputs": [],
   "source": [
    "import seaborn as sns\n",
    "\n"
   ]
  },
  {
   "cell_type": "code",
   "execution_count": 14,
   "metadata": {},
   "outputs": [],
   "source": [
    "# Moved the pop category to be numerical for the corr/heatmap below\n",
    "df['pop'] = df['pop'].map({'Vic': 1, 'other' : 0})"
   ]
  },
  {
   "cell_type": "code",
   "execution_count": 16,
   "metadata": {},
   "outputs": [
    {
     "data": {
      "text/html": [
       "<div>\n",
       "<style scoped>\n",
       "    .dataframe tbody tr th:only-of-type {\n",
       "        vertical-align: middle;\n",
       "    }\n",
       "\n",
       "    .dataframe tbody tr th {\n",
       "        vertical-align: top;\n",
       "    }\n",
       "\n",
       "    .dataframe thead th {\n",
       "        text-align: right;\n",
       "    }\n",
       "</style>\n",
       "<table border=\"1\" class=\"dataframe\">\n",
       "  <thead>\n",
       "    <tr style=\"text-align: right;\">\n",
       "      <th></th>\n",
       "      <th>site</th>\n",
       "      <th>pop</th>\n",
       "      <th>age</th>\n",
       "      <th>head_l</th>\n",
       "      <th>skull_w</th>\n",
       "      <th>total_l</th>\n",
       "      <th>tail_l</th>\n",
       "      <th>sex_m</th>\n",
       "    </tr>\n",
       "  </thead>\n",
       "  <tbody>\n",
       "    <tr>\n",
       "      <th>site</th>\n",
       "      <td>1.000000</td>\n",
       "      <td>-0.892326</td>\n",
       "      <td>-0.130799</td>\n",
       "      <td>-0.163646</td>\n",
       "      <td>-0.083548</td>\n",
       "      <td>-0.260843</td>\n",
       "      <td>0.380444</td>\n",
       "      <td>0.232817</td>\n",
       "    </tr>\n",
       "    <tr>\n",
       "      <th>pop</th>\n",
       "      <td>-0.892326</td>\n",
       "      <td>1.000000</td>\n",
       "      <td>0.085747</td>\n",
       "      <td>-0.001267</td>\n",
       "      <td>-0.065908</td>\n",
       "      <td>0.078666</td>\n",
       "      <td>-0.490856</td>\n",
       "      <td>-0.195811</td>\n",
       "    </tr>\n",
       "    <tr>\n",
       "      <th>age</th>\n",
       "      <td>-0.130799</td>\n",
       "      <td>0.085747</td>\n",
       "      <td>1.000000</td>\n",
       "      <td>0.311848</td>\n",
       "      <td>0.279955</td>\n",
       "      <td>0.250970</td>\n",
       "      <td>0.117274</td>\n",
       "      <td>-0.063995</td>\n",
       "    </tr>\n",
       "    <tr>\n",
       "      <th>head_l</th>\n",
       "      <td>-0.163646</td>\n",
       "      <td>-0.001267</td>\n",
       "      <td>0.311848</td>\n",
       "      <td>1.000000</td>\n",
       "      <td>0.710827</td>\n",
       "      <td>0.691094</td>\n",
       "      <td>0.287429</td>\n",
       "      <td>0.107200</td>\n",
       "    </tr>\n",
       "    <tr>\n",
       "      <th>skull_w</th>\n",
       "      <td>-0.083548</td>\n",
       "      <td>-0.065908</td>\n",
       "      <td>0.279955</td>\n",
       "      <td>0.710827</td>\n",
       "      <td>1.000000</td>\n",
       "      <td>0.526413</td>\n",
       "      <td>0.255921</td>\n",
       "      <td>0.080014</td>\n",
       "    </tr>\n",
       "    <tr>\n",
       "      <th>total_l</th>\n",
       "      <td>-0.260843</td>\n",
       "      <td>0.078666</td>\n",
       "      <td>0.250970</td>\n",
       "      <td>0.691094</td>\n",
       "      <td>0.526413</td>\n",
       "      <td>1.000000</td>\n",
       "      <td>0.565646</td>\n",
       "      <td>-0.160200</td>\n",
       "    </tr>\n",
       "    <tr>\n",
       "      <th>tail_l</th>\n",
       "      <td>0.380444</td>\n",
       "      <td>-0.490856</td>\n",
       "      <td>0.117274</td>\n",
       "      <td>0.287429</td>\n",
       "      <td>0.255921</td>\n",
       "      <td>0.565646</td>\n",
       "      <td>1.000000</td>\n",
       "      <td>-0.040917</td>\n",
       "    </tr>\n",
       "    <tr>\n",
       "      <th>sex_m</th>\n",
       "      <td>0.232817</td>\n",
       "      <td>-0.195811</td>\n",
       "      <td>-0.063995</td>\n",
       "      <td>0.107200</td>\n",
       "      <td>0.080014</td>\n",
       "      <td>-0.160200</td>\n",
       "      <td>-0.040917</td>\n",
       "      <td>1.000000</td>\n",
       "    </tr>\n",
       "  </tbody>\n",
       "</table>\n",
       "</div>"
      ],
      "text/plain": [
       "             site       pop       age    head_l   skull_w   total_l    tail_l  \\\n",
       "site     1.000000 -0.892326 -0.130799 -0.163646 -0.083548 -0.260843  0.380444   \n",
       "pop     -0.892326  1.000000  0.085747 -0.001267 -0.065908  0.078666 -0.490856   \n",
       "age     -0.130799  0.085747  1.000000  0.311848  0.279955  0.250970  0.117274   \n",
       "head_l  -0.163646 -0.001267  0.311848  1.000000  0.710827  0.691094  0.287429   \n",
       "skull_w -0.083548 -0.065908  0.279955  0.710827  1.000000  0.526413  0.255921   \n",
       "total_l -0.260843  0.078666  0.250970  0.691094  0.526413  1.000000  0.565646   \n",
       "tail_l   0.380444 -0.490856  0.117274  0.287429  0.255921  0.565646  1.000000   \n",
       "sex_m    0.232817 -0.195811 -0.063995  0.107200  0.080014 -0.160200 -0.040917   \n",
       "\n",
       "            sex_m  \n",
       "site     0.232817  \n",
       "pop     -0.195811  \n",
       "age     -0.063995  \n",
       "head_l   0.107200  \n",
       "skull_w  0.080014  \n",
       "total_l -0.160200  \n",
       "tail_l  -0.040917  \n",
       "sex_m    1.000000  "
      ]
     },
     "execution_count": 16,
     "metadata": {},
     "output_type": "execute_result"
    }
   ],
   "source": [
    "df.corr()"
   ]
  },
  {
   "cell_type": "code",
   "execution_count": 21,
   "metadata": {},
   "outputs": [
    {
     "data": {
      "image/png": "[encoded data removed]",
      "text/plain": [
       "<Figure size 640x480 with 1 Axes>"
      ]
     },
     "metadata": {},
     "output_type": "display_data"
    }
   ],
   "source": [
    "sns.scatterplot(x = df['age'], y = df['tail_l'], hue = df['pop']);"
   ]
  },
  {
   "cell_type": "code",
   "execution_count": 25,
   "metadata": {},
   "outputs": [
    {
     "data": {
      "text/plain": [
       "<Axes: >"
      ]
     },
     "execution_count": 25,
     "metadata": {},
     "output_type": "execute_result"
    },
    {
     "data": {
      "image/png": "[encoded data removed]",
      "text/plain": [
       "<Figure size 640x480 with 2 Axes>"
      ]
     },
     "metadata": {},
     "output_type": "display_data"
    }
   ],
   "source": [
    "sns.heatmap(df.corr(), annot = True)"
   ]
  },
  {
   "cell_type": "markdown",
   "metadata": {},
   "source": [
    "### Modeling\n",
    "\n",
    "> Build Logistic Regression model to predict `pop`; region of origin.  \n",
    "Examine the performance of the model."
   ]
  },
  {
   "cell_type": "code",
   "execution_count": 31,
   "metadata": {},
   "outputs": [],
   "source": [
    "# Set up X and y\n",
    "\n",
    "X = df.drop(columns = 'pop')\n",
    "y = df['pop']"
   ]
  },
  {
   "cell_type": "code",
   "execution_count": 33,
   "metadata": {},
   "outputs": [],
   "source": [
    "# Train test split!\n",
    "# Note: We do this to preserve data to evaluate our model on unseen data\n",
    "\n",
    "X_train, X_test, y_train, y_test = train_test_split(X, y, random_state=42)\n",
    "\n"
   ]
  },
  {
   "cell_type": "code",
   "execution_count": 36,
   "metadata": {},
   "outputs": [],
   "source": [
    "# Instantiate your model!\n",
    "\n",
    "logreg = LogisticRegression(random_state=42, solver = 'liblinear') #solver got rid of the warning that happened on the cell below"
   ]
  },
  {
   "cell_type": "code",
   "execution_count": 37,
   "metadata": {},
   "outputs": [
    {
     "data": {
      "text/html": [
       "<style>#sk-container-id-2 {color: black;background-color: white;}#sk-container-id-2 pre{padding: 0;}#sk-container-id-2 div.sk-toggleable {background-color: white;}#sk-container-id-2 label.sk-toggleable__label {cursor: pointer;display: block;width: 100%;margin-bottom: 0;padding: 0.3em;box-sizing: border-box;text-align: center;}#sk-container-id-2 label.sk-toggleable__label-arrow:before {content: \"▸\";float: left;margin-right: 0.25em;color: #696969;}#sk-container-id-2 label.sk-toggleable__label-arrow:hover:before {color: black;}#sk-container-id-2 div.sk-estimator:hover label.sk-toggleable__label-arrow:before {color: black;}#sk-container-id-2 div.sk-toggleable__content {max-height: 0;max-width: 0;overflow: hidden;text-align: left;background-color: #f0f8ff;}#sk-container-id-2 div.sk-toggleable__content pre {margin: 0.2em;color: black;border-radius: 0.25em;background-color: #f0f8ff;}#sk-container-id-2 input.sk-toggleable__control:checked~div.sk-toggleable__content {max-height: 200px;max-width: 100%;overflow: auto;}#sk-container-id-2 input.sk-toggleable__control:checked~label.sk-toggleable__label-arrow:before {content: \"▾\";}#sk-container-id-2 div.sk-estimator input.sk-toggleable__control:checked~label.sk-toggleable__label {background-color: #d4ebff;}#sk-container-id-2 div.sk-label input.sk-toggleable__control:checked~label.sk-toggleable__label {background-color: #d4ebff;}#sk-container-id-2 input.sk-hidden--visually {border: 0;clip: rect(1px 1px 1px 1px);clip: rect(1px, 1px, 1px, 1px);height: 1px;margin: -1px;overflow: hidden;padding: 0;position: absolute;width: 1px;}#sk-container-id-2 div.sk-estimator {font-family: monospace;background-color: #f0f8ff;border: 1px dotted black;border-radius: 0.25em;box-sizing: border-box;margin-bottom: 0.5em;}#sk-container-id-2 div.sk-estimator:hover {background-color: #d4ebff;}#sk-container-id-2 div.sk-parallel-item::after {content: \"\";width: 100%;border-bottom: 1px solid gray;flex-grow: 1;}#sk-container-id-2 div.sk-label:hover label.sk-toggleable__label {background-color: #d4ebff;}#sk-container-id-2 div.sk-serial::before {content: \"\";position: absolute;border-left: 1px solid gray;box-sizing: border-box;top: 0;bottom: 0;left: 50%;z-index: 0;}#sk-container-id-2 div.sk-serial {display: flex;flex-direction: column;align-items: center;background-color: white;padding-right: 0.2em;padding-left: 0.2em;position: relative;}#sk-container-id-2 div.sk-item {position: relative;z-index: 1;}#sk-container-id-2 div.sk-parallel {display: flex;align-items: stretch;justify-content: center;background-color: white;position: relative;}#sk-container-id-2 div.sk-item::before, #sk-container-id-2 div.sk-parallel-item::before {content: \"\";position: absolute;border-left: 1px solid gray;box-sizing: border-box;top: 0;bottom: 0;left: 50%;z-index: -1;}#sk-container-id-2 div.sk-parallel-item {display: flex;flex-direction: column;z-index: 1;position: relative;background-color: white;}#sk-container-id-2 div.sk-parallel-item:first-child::after {align-self: flex-end;width: 50%;}#sk-container-id-2 div.sk-parallel-item:last-child::after {align-self: flex-start;width: 50%;}#sk-container-id-2 div.sk-parallel-item:only-child::after {width: 0;}#sk-container-id-2 div.sk-dashed-wrapped {border: 1px dashed gray;margin: 0 0.4em 0.5em 0.4em;box-sizing: border-box;padding-bottom: 0.4em;background-color: white;}#sk-container-id-2 div.sk-label label {font-family: monospace;font-weight: bold;display: inline-block;line-height: 1.2em;}#sk-container-id-2 div.sk-label-container {text-align: center;}#sk-container-id-2 div.sk-container {/* jupyter's `normalize.less` sets `[hidden] { display: none; }` but bootstrap.min.css set `[hidden] { display: none !important; }` so we also need the `!important` here to be able to override the default hidden behavior on the sphinx rendered scikit-learn.org. See: https://github.com/scikit-learn/scikit-learn/issues/21755 */display: inline-block !important;position: relative;}#sk-container-id-2 div.sk-text-repr-fallback {display: none;}</style><div id=\"sk-container-id-2\" class=\"sk-top-container\"><div class=\"sk-text-repr-fallback\"><pre>LogisticRegression(random_state=42, solver=&#x27;liblinear&#x27;)</pre><b>In a Jupyter environment, please rerun this cell to show the HTML representation or trust the notebook. <br />On GitHub, the HTML representation is unable to render, please try loading this page with nbviewer.org.</b></div><div class=\"sk-container\" hidden><div class=\"sk-item\"><div class=\"sk-estimator sk-toggleable\"><input class=\"sk-toggleable__control sk-hidden--visually\" id=\"sk-estimator-id-2\" type=\"checkbox\" checked><label for=\"sk-estimator-id-2\" class=\"sk-toggleable__label sk-toggleable__label-arrow\">LogisticRegression</label><div class=\"sk-toggleable__content\"><pre>LogisticRegression(random_state=42, solver=&#x27;liblinear&#x27;)</pre></div></div></div></div></div>"
      ],
      "text/plain": [
       "LogisticRegression(random_state=42, solver='liblinear')"
      ]
     },
     "execution_count": 37,
     "metadata": {},
     "output_type": "execute_result"
    }
   ],
   "source": [
    "# Fit the Model on training set!\n",
    "\n",
    "logreg.fit(X_train, y_train)"
   ]
  },
  {
   "cell_type": "code",
   "execution_count": 40,
   "metadata": {},
   "outputs": [
    {
     "data": {
      "text/plain": [
       "1.0"
      ]
     },
     "execution_count": 40,
     "metadata": {},
     "output_type": "execute_result"
    }
   ],
   "source": [
    "# How did it do?\n",
    "# Regression ---> lr.score(X_train, y_train) --> the score for regression is our r2 score\n",
    "# Classification ---> logreg.score(X_train, y_train) --> the score for classification is accuracy\n",
    "logreg.score(X_train, y_train)\n"
   ]
  },
  {
   "cell_type": "code",
   "execution_count": 39,
   "metadata": {},
   "outputs": [
    {
     "data": {
      "text/plain": [
       "0.9615384615384616"
      ]
     },
     "execution_count": 39,
     "metadata": {},
     "output_type": "execute_result"
    }
   ],
   "source": [
    "# This is what I care about, \n",
    "# How well did it perform on unseen data?\n",
    "logreg.score(X_test, y_test)"
   ]
  },
  {
   "cell_type": "markdown",
   "metadata": {},
   "source": [
    "### Interpretation & Predictions\n",
    "\n",
    "> Interpret at least one coefficient from your model.  \n",
    "> Generate predicted probabilities for your testing set.  \n",
    "> Generate predictions for your testing set."
   ]
  },
  {
   "cell_type": "code",
   "execution_count": 41,
   "metadata": {},
   "outputs": [
    {
     "data": {
      "text/html": [
       "<div>\n",
       "<style scoped>\n",
       "    .dataframe tbody tr th:only-of-type {\n",
       "        vertical-align: middle;\n",
       "    }\n",
       "\n",
       "    .dataframe tbody tr th {\n",
       "        vertical-align: top;\n",
       "    }\n",
       "\n",
       "    .dataframe thead th {\n",
       "        text-align: right;\n",
       "    }\n",
       "</style>\n",
       "<table border=\"1\" class=\"dataframe\">\n",
       "  <thead>\n",
       "    <tr style=\"text-align: right;\">\n",
       "      <th></th>\n",
       "      <th>site</th>\n",
       "      <th>age</th>\n",
       "      <th>head_l</th>\n",
       "      <th>skull_w</th>\n",
       "      <th>total_l</th>\n",
       "      <th>tail_l</th>\n",
       "      <th>sex_m</th>\n",
       "    </tr>\n",
       "  </thead>\n",
       "  <tbody>\n",
       "    <tr>\n",
       "      <th>30</th>\n",
       "      <td>1</td>\n",
       "      <td>3.000000</td>\n",
       "      <td>92.8</td>\n",
       "      <td>54.1</td>\n",
       "      <td>93.0</td>\n",
       "      <td>37.0</td>\n",
       "      <td>1</td>\n",
       "    </tr>\n",
       "    <tr>\n",
       "      <th>65</th>\n",
       "      <td>5</td>\n",
       "      <td>3.000000</td>\n",
       "      <td>90.4</td>\n",
       "      <td>55.8</td>\n",
       "      <td>86.0</td>\n",
       "      <td>36.5</td>\n",
       "      <td>0</td>\n",
       "    </tr>\n",
       "    <tr>\n",
       "      <th>64</th>\n",
       "      <td>5</td>\n",
       "      <td>5.000000</td>\n",
       "      <td>93.5</td>\n",
       "      <td>57.4</td>\n",
       "      <td>88.5</td>\n",
       "      <td>38.0</td>\n",
       "      <td>0</td>\n",
       "    </tr>\n",
       "    <tr>\n",
       "      <th>53</th>\n",
       "      <td>4</td>\n",
       "      <td>7.000000</td>\n",
       "      <td>96.9</td>\n",
       "      <td>63.0</td>\n",
       "      <td>91.5</td>\n",
       "      <td>43.0</td>\n",
       "      <td>1</td>\n",
       "    </tr>\n",
       "    <tr>\n",
       "      <th>45</th>\n",
       "      <td>2</td>\n",
       "      <td>3.833333</td>\n",
       "      <td>91.4</td>\n",
       "      <td>54.4</td>\n",
       "      <td>84.0</td>\n",
       "      <td>35.0</td>\n",
       "      <td>1</td>\n",
       "    </tr>\n",
       "    <tr>\n",
       "      <th>93</th>\n",
       "      <td>7</td>\n",
       "      <td>7.000000</td>\n",
       "      <td>91.8</td>\n",
       "      <td>57.6</td>\n",
       "      <td>84.0</td>\n",
       "      <td>35.5</td>\n",
       "      <td>1</td>\n",
       "    </tr>\n",
       "    <tr>\n",
       "      <th>91</th>\n",
       "      <td>7</td>\n",
       "      <td>2.000000</td>\n",
       "      <td>90.7</td>\n",
       "      <td>56.3</td>\n",
       "      <td>85.0</td>\n",
       "      <td>37.0</td>\n",
       "      <td>1</td>\n",
       "    </tr>\n",
       "    <tr>\n",
       "      <th>47</th>\n",
       "      <td>3</td>\n",
       "      <td>5.000000</td>\n",
       "      <td>98.6</td>\n",
       "      <td>63.2</td>\n",
       "      <td>85.0</td>\n",
       "      <td>34.0</td>\n",
       "      <td>1</td>\n",
       "    </tr>\n",
       "    <tr>\n",
       "      <th>10</th>\n",
       "      <td>1</td>\n",
       "      <td>9.000000</td>\n",
       "      <td>93.3</td>\n",
       "      <td>57.2</td>\n",
       "      <td>89.5</td>\n",
       "      <td>39.0</td>\n",
       "      <td>0</td>\n",
       "    </tr>\n",
       "    <tr>\n",
       "      <th>0</th>\n",
       "      <td>1</td>\n",
       "      <td>8.000000</td>\n",
       "      <td>94.1</td>\n",
       "      <td>60.4</td>\n",
       "      <td>89.0</td>\n",
       "      <td>36.0</td>\n",
       "      <td>1</td>\n",
       "    </tr>\n",
       "    <tr>\n",
       "      <th>18</th>\n",
       "      <td>1</td>\n",
       "      <td>5.000000</td>\n",
       "      <td>94.4</td>\n",
       "      <td>55.4</td>\n",
       "      <td>90.5</td>\n",
       "      <td>35.0</td>\n",
       "      <td>0</td>\n",
       "    </tr>\n",
       "    <tr>\n",
       "      <th>31</th>\n",
       "      <td>1</td>\n",
       "      <td>4.000000</td>\n",
       "      <td>94.3</td>\n",
       "      <td>56.7</td>\n",
       "      <td>94.0</td>\n",
       "      <td>39.0</td>\n",
       "      <td>0</td>\n",
       "    </tr>\n",
       "    <tr>\n",
       "      <th>88</th>\n",
       "      <td>7</td>\n",
       "      <td>6.000000</td>\n",
       "      <td>97.7</td>\n",
       "      <td>58.4</td>\n",
       "      <td>84.5</td>\n",
       "      <td>35.0</td>\n",
       "      <td>1</td>\n",
       "    </tr>\n",
       "    <tr>\n",
       "      <th>95</th>\n",
       "      <td>7</td>\n",
       "      <td>4.000000</td>\n",
       "      <td>94.8</td>\n",
       "      <td>55.7</td>\n",
       "      <td>83.0</td>\n",
       "      <td>38.0</td>\n",
       "      <td>1</td>\n",
       "    </tr>\n",
       "    <tr>\n",
       "      <th>77</th>\n",
       "      <td>6</td>\n",
       "      <td>1.000000</td>\n",
       "      <td>86.5</td>\n",
       "      <td>51.0</td>\n",
       "      <td>81.0</td>\n",
       "      <td>36.5</td>\n",
       "      <td>1</td>\n",
       "    </tr>\n",
       "    <tr>\n",
       "      <th>4</th>\n",
       "      <td>1</td>\n",
       "      <td>2.000000</td>\n",
       "      <td>91.5</td>\n",
       "      <td>56.3</td>\n",
       "      <td>85.5</td>\n",
       "      <td>36.0</td>\n",
       "      <td>0</td>\n",
       "    </tr>\n",
       "    <tr>\n",
       "      <th>80</th>\n",
       "      <td>6</td>\n",
       "      <td>3.000000</td>\n",
       "      <td>90.6</td>\n",
       "      <td>56.0</td>\n",
       "      <td>85.5</td>\n",
       "      <td>38.0</td>\n",
       "      <td>1</td>\n",
       "    </tr>\n",
       "    <tr>\n",
       "      <th>33</th>\n",
       "      <td>2</td>\n",
       "      <td>2.000000</td>\n",
       "      <td>90.6</td>\n",
       "      <td>55.7</td>\n",
       "      <td>85.5</td>\n",
       "      <td>36.5</td>\n",
       "      <td>1</td>\n",
       "    </tr>\n",
       "    <tr>\n",
       "      <th>12</th>\n",
       "      <td>1</td>\n",
       "      <td>5.000000</td>\n",
       "      <td>95.1</td>\n",
       "      <td>59.9</td>\n",
       "      <td>89.5</td>\n",
       "      <td>36.0</td>\n",
       "      <td>1</td>\n",
       "    </tr>\n",
       "    <tr>\n",
       "      <th>26</th>\n",
       "      <td>1</td>\n",
       "      <td>2.000000</td>\n",
       "      <td>90.5</td>\n",
       "      <td>54.5</td>\n",
       "      <td>85.0</td>\n",
       "      <td>35.0</td>\n",
       "      <td>0</td>\n",
       "    </tr>\n",
       "    <tr>\n",
       "      <th>98</th>\n",
       "      <td>7</td>\n",
       "      <td>3.000000</td>\n",
       "      <td>93.3</td>\n",
       "      <td>56.2</td>\n",
       "      <td>86.5</td>\n",
       "      <td>38.5</td>\n",
       "      <td>0</td>\n",
       "    </tr>\n",
       "    <tr>\n",
       "      <th>55</th>\n",
       "      <td>4</td>\n",
       "      <td>3.000000</td>\n",
       "      <td>99.9</td>\n",
       "      <td>61.5</td>\n",
       "      <td>93.7</td>\n",
       "      <td>38.0</td>\n",
       "      <td>1</td>\n",
       "    </tr>\n",
       "    <tr>\n",
       "      <th>22</th>\n",
       "      <td>1</td>\n",
       "      <td>4.000000</td>\n",
       "      <td>92.5</td>\n",
       "      <td>56.1</td>\n",
       "      <td>89.0</td>\n",
       "      <td>36.0</td>\n",
       "      <td>0</td>\n",
       "    </tr>\n",
       "    <tr>\n",
       "      <th>76</th>\n",
       "      <td>6</td>\n",
       "      <td>6.000000</td>\n",
       "      <td>93.6</td>\n",
       "      <td>56.2</td>\n",
       "      <td>84.0</td>\n",
       "      <td>36.0</td>\n",
       "      <td>1</td>\n",
       "    </tr>\n",
       "    <tr>\n",
       "      <th>44</th>\n",
       "      <td>2</td>\n",
       "      <td>3.000000</td>\n",
       "      <td>90.7</td>\n",
       "      <td>55.9</td>\n",
       "      <td>81.0</td>\n",
       "      <td>34.0</td>\n",
       "      <td>1</td>\n",
       "    </tr>\n",
       "    <tr>\n",
       "      <th>72</th>\n",
       "      <td>5</td>\n",
       "      <td>1.000000</td>\n",
       "      <td>82.5</td>\n",
       "      <td>52.3</td>\n",
       "      <td>82.0</td>\n",
       "      <td>36.5</td>\n",
       "      <td>1</td>\n",
       "    </tr>\n",
       "  </tbody>\n",
       "</table>\n",
       "</div>"
      ],
      "text/plain": [
       "    site       age  head_l  skull_w  total_l  tail_l  sex_m\n",
       "30     1  3.000000    92.8     54.1     93.0    37.0      1\n",
       "65     5  3.000000    90.4     55.8     86.0    36.5      0\n",
       "64     5  5.000000    93.5     57.4     88.5    38.0      0\n",
       "53     4  7.000000    96.9     63.0     91.5    43.0      1\n",
       "45     2  3.833333    91.4     54.4     84.0    35.0      1\n",
       "93     7  7.000000    91.8     57.6     84.0    35.5      1\n",
       "91     7  2.000000    90.7     56.3     85.0    37.0      1\n",
       "47     3  5.000000    98.6     63.2     85.0    34.0      1\n",
       "10     1  9.000000    93.3     57.2     89.5    39.0      0\n",
       "0      1  8.000000    94.1     60.4     89.0    36.0      1\n",
       "18     1  5.000000    94.4     55.4     90.5    35.0      0\n",
       "31     1  4.000000    94.3     56.7     94.0    39.0      0\n",
       "88     7  6.000000    97.7     58.4     84.5    35.0      1\n",
       "95     7  4.000000    94.8     55.7     83.0    38.0      1\n",
       "77     6  1.000000    86.5     51.0     81.0    36.5      1\n",
       "4      1  2.000000    91.5     56.3     85.5    36.0      0\n",
       "80     6  3.000000    90.6     56.0     85.5    38.0      1\n",
       "33     2  2.000000    90.6     55.7     85.5    36.5      1\n",
       "12     1  5.000000    95.1     59.9     89.5    36.0      1\n",
       "26     1  2.000000    90.5     54.5     85.0    35.0      0\n",
       "98     7  3.000000    93.3     56.2     86.5    38.5      0\n",
       "55     4  3.000000    99.9     61.5     93.7    38.0      1\n",
       "22     1  4.000000    92.5     56.1     89.0    36.0      0\n",
       "76     6  6.000000    93.6     56.2     84.0    36.0      1\n",
       "44     2  3.000000    90.7     55.9     81.0    34.0      1\n",
       "72     5  1.000000    82.5     52.3     82.0    36.5      1"
      ]
     },
     "execution_count": 41,
     "metadata": {},
     "output_type": "execute_result"
    }
   ],
   "source": [
    "X_test"
   ]
  },
  {
   "cell_type": "code",
   "execution_count": 42,
   "metadata": {},
   "outputs": [
    {
     "data": {
      "text/plain": [
       "array([1, 0, 0, 0, 1, 0, 0, 1, 1, 1, 1, 1, 0, 0, 0, 1, 0, 1, 1, 1, 0, 0,\n",
       "       1, 0, 1, 0], dtype=int64)"
      ]
     },
     "execution_count": 42,
     "metadata": {},
     "output_type": "execute_result"
    }
   ],
   "source": [
    "logreg.predict(X_test)"
   ]
  },
  {
   "cell_type": "code",
   "execution_count": 43,
   "metadata": {},
   "outputs": [
    {
     "data": {
      "image/png": "[encoded data removed]",
      "text/plain": [
       "<Figure size 640x480 with 2 Axes>"
      ]
     },
     "metadata": {},
     "output_type": "display_data"
    }
   ],
   "source": [
    "ConfusionMatrixDisplay.from_estimator(logreg, X_test, y_test, cmap = 'Blues');\n",
    "\n",
    "# In the top right, we predicted a possum in Vic vs Other and it was wrong (One False/Positive)"
   ]
  },
  {
   "cell_type": "code",
   "execution_count": 47,
   "metadata": {},
   "outputs": [
    {
     "data": {
      "image/png": "[encoded data removed]",
      "text/plain": [
       "<Figure size 640x480 with 2 Axes>"
      ]
     },
     "metadata": {},
     "output_type": "display_data"
    }
   ],
   "source": [
    "ConfusionMatrixDisplay.from_predictions(y_pred = logreg.predict(X_test), y_true = y_test, cmap = 'Blues');"
   ]
  },
  {
   "cell_type": "code",
   "execution_count": 49,
   "metadata": {},
   "outputs": [
    {
     "data": {
      "text/plain": [
       "array([1, 0, 0, 0, 1, 0, 0, 1, 1, 1, 1, 1, 0, 0, 0, 1, 0, 1, 1, 1, 0, 0,\n",
       "       1, 0, 1, 0], dtype=int64)"
      ]
     },
     "execution_count": 49,
     "metadata": {},
     "output_type": "execute_result"
    }
   ],
   "source": [
    "logreg.predict(X_test)"
   ]
  },
  {
   "cell_type": "code",
   "execution_count": 48,
   "metadata": {},
   "outputs": [
    {
     "data": {
      "text/plain": [
       "array([[0.028, 0.972],\n",
       "       [0.998, 0.002],\n",
       "       [0.998, 0.002],\n",
       "       [0.983, 0.017],\n",
       "       [0.139, 0.861],\n",
       "       [1.   , 0.   ],\n",
       "       [1.   , 0.   ],\n",
       "       [0.341, 0.659],\n",
       "       [0.026, 0.974],\n",
       "       [0.018, 0.982],\n",
       "       [0.011, 0.989],\n",
       "       [0.029, 0.971],\n",
       "       [1.   , 0.   ],\n",
       "       [1.   , 0.   ],\n",
       "       [1.   , 0.   ],\n",
       "       [0.016, 0.984],\n",
       "       [1.   , 0.   ],\n",
       "       [0.222, 0.778],\n",
       "       [0.014, 0.986],\n",
       "       [0.016, 0.984],\n",
       "       [1.   , 0.   ],\n",
       "       [0.939, 0.061],\n",
       "       [0.018, 0.982],\n",
       "       [1.   , 0.   ],\n",
       "       [0.118, 0.882],\n",
       "       [1.   , 0.   ]])"
      ]
     },
     "execution_count": 48,
     "metadata": {},
     "output_type": "execute_result"
    }
   ],
   "source": [
    "logreg.predict_proba(X_test).round(3)\n",
    "\n",
    "# first row - 97% confident that the possum was in Victoria\n",
    "# second row - 99.8% confident that the possum was in Other\n",
    "\n",
    "#First Column = 'Other\n",
    "#Second Column = 'Vic'"
   ]
  },
  {
   "cell_type": "code",
   "execution_count": 51,
   "metadata": {},
   "outputs": [
    {
     "data": {
      "text/plain": [
       "site      -2.482776\n",
       "age       -0.015436\n",
       "head_l     0.242525\n",
       "skull_w   -0.051182\n",
       "total_l   -0.094468\n",
       "tail_l    -0.131861\n",
       "sex_m     -0.106764\n",
       "dtype: float64"
      ]
     },
     "execution_count": 51,
     "metadata": {},
     "output_type": "execute_result"
    }
   ],
   "source": [
    "# Check out some coefficients!\n",
    "pd.Series(logreg.coef_[0], index = X.columns)"
   ]
  },
  {
   "cell_type": "code",
   "execution_count": 52,
   "metadata": {},
   "outputs": [
    {
     "data": {
      "text/plain": [
       "0.8764628149439738"
      ]
     },
     "execution_count": 52,
     "metadata": {},
     "output_type": "execute_result"
    }
   ],
   "source": [
    "import numpy as np\n",
    "\n",
    "# Interpreting the tail length coefficient:\n",
    "np.exp(-0.131861)"
   ]
  },
  {
   "cell_type": "code",
   "execution_count": null,
   "metadata": {},
   "outputs": [],
   "source": [
    "# If the number above is less than 1, then that means it is 1 - np.exp(coef) less likely to be in our target.\n",
    "# If the number above is more than 1, then that means it is np.exp(coef) times as likely to be in our target."
   ]
  },
  {
   "cell_type": "markdown",
   "metadata": {},
   "source": [
    "### What this is saying, is that ALL ELSE HELD CONSTANT, a 1 unit increase in a possum's tail length suggests that it is 12.2% less likely to live in Vic region"
   ]
  },
  {
   "cell_type": "code",
   "execution_count": null,
   "metadata": {},
   "outputs": [],
   "source": [
    "# Black Box Models\n",
    "# - Random Forest - Group of 100 decision trees\n",
    "# - XGBoost\n",
    "\n",
    "# White Box Models\n",
    "# - Decision Tree - One tree\n",
    "# - Logistic - Linear Regression\n",
    "# - Classification -Regression"
   ]
  }
 ],
 "metadata": {
  "kernelspec": {
   "display_name": "Python 3",
   "language": "python",
   "name": "python3"
  },
  "language_info": {
   "codemirror_mode": {
    "name": "ipython",
    "version": 3
   },
   "file_extension": ".py",
   "mimetype": "text/x-python",
   "name": "python",
   "nbconvert_exporter": "python",
   "pygments_lexer": "ipython3",
   "version": "3.11.3"
  }
 },
 "nbformat": 4,
 "nbformat_minor": 4
}
