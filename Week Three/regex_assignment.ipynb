{
 "cells": [
  {
   "attachments": {},
   "cell_type": "markdown",
   "metadata": {},
   "source": [
    "# Coding Temple Data Analytics Program:\n",
    "---\n",
    "## Python II Regex Assignment\n",
    "\n",
    "Use python to read the file `regex_test.txt` and print the last name on each line using regular expressions and groups (return None for names with no first and last name, or names that aren't properly capitalized)\n",
    "\n",
    "##### **Hint: use with open() and readlines()**\n",
    "\n",
    "**Expected Output:**\n",
    "\n",
    "Abraham Lincoln\n",
    "\n",
    "Andrew P Garfield\n",
    "\n",
    "Connor Milliken\n",
    "\n",
    "Jordan Alexander Williams\n",
    "\n",
    "None\n",
    "\n",
    "None"
   ]
  },
  {
   "cell_type": "code",
   "execution_count": 52,
   "metadata": {},
   "outputs": [
    {
     "name": "stdout",
     "output_type": "stream",
     "text": [
      "Abraham Lincoln\n",
      "\n",
      "Andrew P Garfield\n",
      "\n",
      "Connor Milliken\n",
      "\n",
      "Jordan Alexander Williams\n",
      "\n",
      "None\n",
      "None\n"
     ]
    }
   ],
   "source": [
    "import re \n",
    "\n",
    "# Reading in the data\n",
    "with open(r'regex_test.txt', encoding = 'utf-8-sig') as f:\n",
    "    data = f.readlines()\n",
    "\n",
    "# Taking a quick peek!\n",
    "#print(data)\n",
    "\n",
    "#                     (first name) (middle name if there is one, then last name)\n",
    "pattern = re.compile('([A-Z][a-z]+)(.*) ([A-Z][a-z]+)')\n",
    "\n",
    "for name in data:\n",
    "    matches = pattern.match(name)\n",
    "\n",
    "    if matches:\n",
    "        print(name)\n",
    "    else:\n",
    "        print(None)\n",
    "   \n",
    "    \n",
    "\n",
    "\n",
    "       \n"
   ]
  },
  {
   "cell_type": "code",
   "execution_count": 46,
   "metadata": {},
   "outputs": [],
   "source": [
    "def find_my_names(name_input):\n",
    "    pattern = re.compile('([A-Z][a-z]+) ([A-Z][a-z]+)*')  \n",
    "    matches = pattern.match(name_input)\n",
    "\n",
    "    if matches:\n",
    "        return name_input\n",
    "    else:\n",
    "        return None  \n",
    "\n"
   ]
  },
  {
   "cell_type": "code",
   "execution_count": 48,
   "metadata": {},
   "outputs": [
    {
     "name": "stdout",
     "output_type": "stream",
     "text": [
      "Abraham Lincoln\n",
      "\n",
      "Andrew P Garfield\n",
      "\n",
      "Connor Milliken\n",
      "\n",
      "Jordan Alexander Williams\n",
      "\n",
      "None\n",
      "None\n"
     ]
    }
   ],
   "source": [
    "for name in data:\n",
    "    print(find_my_names(name))"
   ]
  }
 ],
 "metadata": {
  "kernelspec": {
   "display_name": "Python 3",
   "language": "python",
   "name": "python3"
  },
  "language_info": {
   "codemirror_mode": {
    "name": "ipython",
    "version": 3
   },
   "file_extension": ".py",
   "mimetype": "text/x-python",
   "name": "python",
   "nbconvert_exporter": "python",
   "pygments_lexer": "ipython3",
   "version": "3.11.5"
  },
  "orig_nbformat": 4
 },
 "nbformat": 4,
 "nbformat_minor": 2
}
