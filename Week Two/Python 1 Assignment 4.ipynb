{
 "cells": [
  {
   "attachments": {},
   "cell_type": "markdown",
   "metadata": {},
   "source": [
    "# Coding Temple's Data Analytics Program\n",
    "---\n",
    "## Python Basics Assignment 4\n",
    "---"
   ]
  },
  {
   "attachments": {},
   "cell_type": "markdown",
   "metadata": {},
   "source": [
    "### **Task 1: Update Shopping Cart**\n",
    "Using the shopping cart you created yesterday as a blueprint, create a shopping cart using object-oriented programming. This shopping cart should maintain all functionality that you currently have in your blueprint."
   ]
  },
  {
   "cell_type": "code",
   "execution_count": 10,
   "metadata": {},
   "outputs": [
    {
     "name": "stdout",
     "output_type": "stream",
     "text": [
      "('Cat Litter', 1)\n",
      "Cat Litter qty: 1\n"
     ]
    },
    {
     "data": {
      "text/plain": [
       "'1 total items purchase'"
      ]
     },
     "execution_count": 10,
     "metadata": {},
     "output_type": "execute_result"
    }
   ],
   "source": [
    "# Using a List\n",
    "\n",
    "class DigitalShoppingCart:\n",
    "    \"\"\"\" \n",
    "        This is a digital shopping cart that will have items and their quantities placed inside!\n",
    "\n",
    "        Attributes for the class:\n",
    "        - items the items and its quantity placed inside a list\n",
    "\n",
    "        Methods for my class:\n",
    "        - Initialize: self.items attribute as an empty list\n",
    "        - add_to_cart: try to add items to a cart only if the quantity is a positive int\n",
    "        - remove_from_cart: remove an item and it's quanityt from the cart\n",
    "        - clear_cart: empty the entire cart\n",
    "        - view_car: prints all items in cart and quantities\n",
    "        - checkout: print all existing cart and totals\n",
    "    \"\"\"\n",
    "\n",
    "    def __init__(self):\n",
    "        self.items = []\n",
    "\n",
    "    def add_to_cart(self, item_name: str, qty: int):\n",
    "        \"\"\"Attempts to add items to the cart if qty is a positive int\"\"\"\n",
    "        try:\n",
    "            if int(qty) > 0:\n",
    "                item = (item_name, qty)\n",
    "                self.items.append(item)\n",
    "            else:\n",
    "                print('QTY MUST be a positive integer value')\n",
    "        except:\n",
    "            print('QTY MUST be a positive inter value')\n",
    "\n",
    "    def remove_from_cart(self, item_name):\n",
    "        \"\"\"remove an item from the cart, otherwise informs my user to check the cart\"\"\"\n",
    "\n",
    "        if item_name not in [item[0] for item in self.items]:\n",
    "            print('Item was not found! Please double check your cart!')\n",
    "        for item in self.items:\n",
    "            if item[0] == item_name:\n",
    "                self.items.remove(item)\n",
    "                self.view_cart()\n",
    "                break\n",
    "\n",
    "    def clear_cart(self):\n",
    "        \"\"\"Empty the Cart\"\"\" \n",
    "        self.items.clear() \n",
    "\n",
    "    def view_cart(self):\n",
    "        \"\"\"Allow you to check the cart\"\"\"\n",
    "\n",
    "        for items in self.items:\n",
    "            print(items)\n",
    "\n",
    "    def checkout(self):\n",
    "        \"\"\"Close the care and return to you the items in it!\"\"\"   \n",
    "        for items in self.items:\n",
    "            print(str(items[0]) + ' qty: ' + str(items[1]))\n",
    "\n",
    "        return str(sum([qty[1] for qty in self.items])) + ' total items purchase'\n",
    "\n",
    "cart = DigitalShoppingCart()\n",
    "cart.add_to_cart('Cat Litter', 1)\n",
    "cart.view_cart()\n",
    "cart.checkout()"
   ]
  },
  {
   "cell_type": "code",
   "execution_count": 16,
   "metadata": {},
   "outputs": [
    {
     "name": "stdout",
     "output_type": "stream",
     "text": [
      "Cat Litter 1\n",
      "Cat Litter qty:1\n"
     ]
    },
    {
     "data": {
      "text/plain": [
       "'1 total items purchase'"
      ]
     },
     "execution_count": 16,
     "metadata": {},
     "output_type": "execute_result"
    }
   ],
   "source": [
    "# Using a Dictionary\n",
    "\n",
    "class DigitalShoppingCart:\n",
    "    \"\"\"\" \n",
    "        This is a digital shopping cart that will have items and their quantities placed inside!\n",
    "\n",
    "        Attributes for the class:\n",
    "        - items the items and its quantity placed inside a list\n",
    "\n",
    "        Methods for my class:\n",
    "        - Initialize: self.items attribute as an empty list\n",
    "        - add_to_cart: try to add items to a cart only if the quantity is a positive int\n",
    "        - remove_from_cart: remove an item and it's quanityt from the cart\n",
    "        - clear_cart: empty the entire cart\n",
    "        - view_car: prints all items in cart and quantities\n",
    "        - checkout: print all existing cart and totals\n",
    "    \"\"\"\n",
    "    def __init__(self):\n",
    "        self.items = {}\n",
    "\n",
    "    def add_to_cart(self, item_name: str, qty: int):\n",
    "        \"\"\"Attempts to add items to the cart if qty is a positive int\"\"\"\n",
    "        try:\n",
    "            if int(qty) > 0:\n",
    "                self.items[item_name] = qty\n",
    "            else:\n",
    "                print('QTY MUST be a positive integer value')\n",
    "        except:\n",
    "            print('QTY MUST be a positive inter value')\n",
    "\n",
    "    def remove_from_cart(self, item_name):\n",
    "        \"\"\"remove an item from the cart, otherwise informs my user to check the cart\"\"\"\n",
    "\n",
    "        if item_name not in [item[0] for item in self.items.key()]:\n",
    "            print('Item was not found! Please double check your cart!')\n",
    "        for item in self.items:\n",
    "            if item == item_name:\n",
    "                del self.items[item]\n",
    "                self.view_cart()\n",
    "                break\n",
    "\n",
    "    def clear_cart(self):\n",
    "        \"\"\"Empty the Cart\"\"\" \n",
    "        self.items.clear() \n",
    "\n",
    "    def view_cart(self):\n",
    "        \"\"\"Allow you to check the cart\"\"\"\n",
    "\n",
    "        for k, v in self.items.items():\n",
    "            print(k,v)\n",
    "\n",
    "    def checkout(self):\n",
    "        \"\"\"Close the cart and return to you the items in it!\"\"\"   \n",
    "        for k,v in self.items.items():\n",
    "            print(str(k) + ' qty:' + str(v))\n",
    "        return str(sum(v for v in self.items.values())) + ' total items purchase'\n",
    "\n",
    "cart = DigitalShoppingCart()\n",
    "cart.add_to_cart('Cat Litter', 1)\n",
    "cart.view_cart()\n",
    "cart.checkout()"
   ]
  },
  {
   "attachments": {},
   "cell_type": "markdown",
   "metadata": {},
   "source": [
    "### **Task 2: String Class**\n",
    "Write a class which has the following two methods:\n",
    "* `get_string`: Accepts a string input from the user\n",
    "* `print_string`: Prints the string all in upper-case"
   ]
  },
  {
   "cell_type": "code",
   "execution_count": 15,
   "metadata": {},
   "outputs": [
    {
     "name": "stdout",
     "output_type": "stream",
     "text": [
      "Hello, your favorite color is red.\n"
     ]
    },
    {
     "data": {
      "text/plain": [
       "'RED'"
      ]
     },
     "execution_count": 15,
     "metadata": {},
     "output_type": "execute_result"
    }
   ],
   "source": [
    "class Assignment:\n",
    "    \"\"\"\n",
    "    - get_string: Accepts a string input from the user\n",
    "    - print_string: Prints the string all in upper-case\n",
    "    \n",
    "    \"\"\"\n",
    "\n",
    "  \n",
    "    def get_string(self):\n",
    "        self.answer = input(\"What is your favorite color?: \")\n",
    "        print(f'Hello, your favorite color is {self.answer}.')\n",
    "\n",
    "    def print_string(self):\n",
    "        return self.answer.upper()\n",
    "\n",
    "color = Assignment()\n",
    "color.get_string()\n",
    "color.print_string()\n",
    "\n",
    "\n"
   ]
  },
  {
   "attachments": {},
   "cell_type": "markdown",
   "metadata": {},
   "source": [
    "### **Task 3: Activities**\n",
    "Create a class that depicts your favorite activity. Add in attributes that are associated with that activity in you `__init__` call. Also, create three functions that are associated with the activity.\n",
    "\n",
    "**Example:**\n",
    "If I chose football, I may have a FootballPlayer class with attributes such as:\n",
    "* `self.speed`\n",
    "* `self.strength`\n",
    "* `self.position`\n",
    "\n",
    "and methods such as:\n",
    "* `def pass_ball`\n",
    "* `def run`\n",
    "* `def faster_than_x`"
   ]
  },
  {
   "cell_type": "code",
   "execution_count": 6,
   "metadata": {},
   "outputs": [],
   "source": [
    "class FantasyFootballPlayer:\n",
    "\n",
    "    \"\"\" \n",
    "    Attributes:\n",
    "    - name\n",
    "    - position\n",
    "    - pass_points - Style one of points that can be scored\n",
    "    - catch_points - Style two of points that can be scored\n",
    "    - starting\n",
    "\n",
    "    Methods:\n",
    "    - points_per_pass()\n",
    "    - points_per_touchdown()\n",
    "    - points_per_catch()\n",
    "\n",
    "    \"\"\"\n",
    "\n",
    "    def __init__(self, name, position, pass_points: int, catch_points: int, starting = True):\n",
    "        self.name = name\n",
    "        self.position = position\n",
    "        self.pass_points = pass_points\n",
    "        self.catch_points = catch_points\n",
    "        self.starting = starting\n",
    "\n",
    "    \n",
    "    def points_per_pass(self):  \n",
    "        pass_total = (self.pass_points / 25)\n",
    "        return pass_total \n",
    "           \n",
    "    def points_per_touchdown(self): \n",
    "        \"\"\"For the purposes on this exercise, qbs can only throw a touchdown and rbs can only run a touchdown\"\"\" \n",
    "        rush_touchdown = 6\n",
    "        pass_touchdown = 4\n",
    "        if self.position == 'qb':\n",
    "            return pass_touchdown\n",
    "        elif self.position == 'rb':\n",
    "            return rush_touchdown\n",
    "        else:\n",
    "            print('Please select qb or rb for your attribute')\n",
    "           \n",
    "    def points_per_catch(self):\n",
    "        catch_total = (.1 * self.catch_points) + .5\n",
    "        return catch_total\n",
    "    \n",
    "\n"
   ]
  },
  {
   "attachments": {},
   "cell_type": "markdown",
   "metadata": {},
   "source": [
    "### **Task 4: Test Your Class!**\n",
    "Now that you created your class, let's create an instance of your class. In the cell below, instantiate a Class Object, then test each of your class methods on that object."
   ]
  },
  {
   "cell_type": "code",
   "execution_count": 7,
   "metadata": {},
   "outputs": [
    {
     "data": {
      "text/plain": [
       "True"
      ]
     },
     "execution_count": 7,
     "metadata": {},
     "output_type": "execute_result"
    }
   ],
   "source": [
    "team = FantasyFootballPlayer(\"O'Doroh Rules\", \"qb\", 200, 50)\n",
    "\n",
    "team.starting\n",
    "#team.points_per_catch()\n",
    "#team.points_per_pass()\n",
    "#team.points_per_touchdown()\n",
    "\n"
   ]
  }
 ],
 "metadata": {
  "kernelspec": {
   "display_name": "Python 3",
   "language": "python",
   "name": "python3"
  },
  "language_info": {
   "codemirror_mode": {
    "name": "ipython",
    "version": 3
   },
   "file_extension": ".py",
   "mimetype": "text/x-python",
   "name": "python",
   "nbconvert_exporter": "python",
   "pygments_lexer": "ipython3",
   "version": "3.11.5"
  },
  "orig_nbformat": 4,
  "vscode": {
   "interpreter": {
    "hash": "26de051ba29f2982a8de78e945f0abaf191376122a1563185a90213a26c5da77"
   }
  }
 },
 "nbformat": 4,
 "nbformat_minor": 2
}
