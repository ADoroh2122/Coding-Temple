{
 "cells": [
  {
   "attachments": {},
   "cell_type": "markdown",
   "metadata": {},
   "source": [
    "# Coding Temple's Data Analytics Program\n",
    "---\n",
    "## Python 1 Assignment 3\n",
    "---"
   ]
  },
  {
   "attachments": {},
   "cell_type": "markdown",
   "metadata": {},
   "source": [
    "### **Task 1: Build a Shopping Cart**\n",
    "**You can use either lists or dictionaries. The program should have the following capabilites:**\n",
    "* Takes a string as an input\n",
    "* Stores user input in a dictionary or list\n",
    "* Users should be able to:\n",
    "    * Add Items\n",
    "    * Delete Items\n",
    "    * See current shopping cart\n",
    "* The program should loop until user 'quits'\n",
    "* Upon quitting the program, print out all items in the user's list"
   ]
  },
  {
   "cell_type": "code",
   "execution_count": 5,
   "metadata": {},
   "outputs": [],
   "source": [
    "from IPython.display import clear_output\n",
    "\n",
    "# Ask the user 5 bits of input: Do you want to : Show/Add/Delete/clear or Quit?\n",
    "# YOUR CODE HERE\n",
    "\n",
    "def shop_with_me():\n",
    "\n",
    "    shopping_cart = {}\n",
    "\n",
    "    while True:\n",
    "\n",
    "        answer = input(\"Show/Add/Delete/Clear or Quit?\")\n",
    "\n",
    "        if answer.lower() == \"show\":\n",
    "            print(shopping_cart)\n",
    "\n",
    "        elif answer.lower() == \"add\":\n",
    "            item = input(\"What would you like to add: \")\n",
    "            quantity = input(\"Enter the quantity:\")\n",
    "            shopping_cart[item] = quantity\n",
    "            print(f\" {item} has been added to your shopping cart!\")\n",
    "\n",
    "        elif answer.lower() == \"delete\":\n",
    "            item_to_delete = input(\"Enter the item to delete: \")\n",
    "\n",
    "            if item_to_delete in shopping_cart:\n",
    "                del shopping_cart[item_to_delete]\n",
    "                print(f\" {item_to_delete} was removed from your cart!\")\n",
    "            else:\n",
    "                print(\"Item not found\")\n",
    "        \n",
    "        elif answer.lower() == \"clear\":\n",
    "            shopping_cart.clear()\n",
    "            print(\"Shopping cart cleared\")\n",
    "\n",
    "        elif answer.lower() == \"quit\":\n",
    "            print(shopping_cart)\n",
    "            break\n",
    "\n",
    "        else:\n",
    "            print(\"Please select one of the options!\")\n",
    "\n",
    "\n"
   ]
  },
  {
   "cell_type": "code",
   "execution_count": 6,
   "metadata": {},
   "outputs": [
    {
     "name": "stdout",
     "output_type": "stream",
     "text": [
      " Apple has been added to your shopping cart!\n",
      " Banana has been added to your shopping cart!\n",
      "{'Apple': '10', 'Banana': '11'}\n",
      " Apple was removed from your cart!\n",
      "{'Banana': '11'}\n",
      "Shopping cart cleared\n",
      "{}\n",
      "{}\n"
     ]
    }
   ],
   "source": [
    "shop_with_me()"
   ]
  },
  {
   "attachments": {},
   "cell_type": "markdown",
   "metadata": {},
   "source": [
    "### **Task 2: Create a Module and Import it**\n",
    "Create a Module in VS Code and import it into a Notebook. Use each of the functions you build in your module\n",
    "\n",
    "**Your module should have the following capabilities:**\n",
    "* Has a function to calculate the square footage of a house\n",
    "* Has a function to calculate the circumference of a circle\n",
    "* Has a function to change feet to inches"
   ]
  },
  {
   "cell_type": "code",
   "execution_count": 1,
   "metadata": {},
   "outputs": [
    {
     "data": {
      "text/plain": [
       "100"
      ]
     },
     "execution_count": 1,
     "metadata": {},
     "output_type": "execute_result"
    }
   ],
   "source": [
    "import assignmodule as am \n",
    "\n",
    "am.square_footage_house(10, 10)\n",
    "\n"
   ]
  },
  {
   "cell_type": "code",
   "execution_count": 4,
   "metadata": {},
   "outputs": [
    {
     "data": {
      "text/plain": [
       "62.83185306"
      ]
     },
     "execution_count": 4,
     "metadata": {},
     "output_type": "execute_result"
    }
   ],
   "source": [
    "am.circumference_of_a_circle(10)"
   ]
  },
  {
   "cell_type": "code",
   "execution_count": 3,
   "metadata": {},
   "outputs": [
    {
     "data": {
      "text/plain": [
       "144"
      ]
     },
     "execution_count": 3,
     "metadata": {},
     "output_type": "execute_result"
    }
   ],
   "source": [
    "am.feet_to_inches(12)"
   ]
  },
  {
   "attachments": {},
   "cell_type": "markdown",
   "metadata": {},
   "source": [
    "### **Task 3.1: Lists**\n",
    "Create 4 lists. Two of these lists should be keys, two of these lists should be values"
   ]
  },
  {
   "cell_type": "code",
   "execution_count": 10,
   "metadata": {},
   "outputs": [],
   "source": [
    "keys1 = ['name', 'age', 'occupation']\n",
    "keys2 = ['company', 'city', 'favorite hobby']\n",
    "\n",
    "values1 = ['Steve', 30, 'Data Analyst']\n",
    "values2 = ['Coding Temple', 'Chicago', 'baseball']"
   ]
  },
  {
   "attachments": {},
   "cell_type": "markdown",
   "metadata": {},
   "source": [
    "### **Task 3.2: Create a function that converts two lists into a dictionary, then merges two dictionaries into one.**\n",
    "\n",
    "Using your 4 lists, create a function which combines the keys lists with the values lists into a dictionary, then merges and returns the two dictionaries together."
   ]
  },
  {
   "cell_type": "code",
   "execution_count": 11,
   "metadata": {},
   "outputs": [
    {
     "data": {
      "text/plain": [
       "{'name': 'Steve',\n",
       " 'age': 30,\n",
       " 'occupation': 'Data Analyst',\n",
       " 'company': 'Coding Temple',\n",
       " 'city': 'Chicago',\n",
       " 'favorite hobby': 'baseball'}"
      ]
     },
     "execution_count": 11,
     "metadata": {},
     "output_type": "execute_result"
    }
   ],
   "source": [
    "dict1 = {key:value for key, value in zip(keys1, values1)}\n",
    "dict2 = {key:value for key, value in zip(keys2, values2)}\n",
    "\n",
    "merged_dict = {**dict1, **dict2}\n",
    "merged_dict"
   ]
  },
  {
   "cell_type": "code",
   "execution_count": 12,
   "metadata": {},
   "outputs": [],
   "source": [
    "def combined_dicts(keylist1, keylist2, valueslist1, valueslist2):\n",
    "    dict1 = {key:value for key, value in zip(keylist1, valueslist1)}\n",
    "    dict2 = {key:value for key, value in zip(keylist2, valueslist2)}\n",
    "\n",
    "    merged_dict = {**dict1, **dict2}\n",
    "\n",
    "    return merged_dict\n"
   ]
  },
  {
   "cell_type": "code",
   "execution_count": 13,
   "metadata": {},
   "outputs": [
    {
     "data": {
      "text/plain": [
       "{'name': 'Steve',\n",
       " 'age': 30,\n",
       " 'occupation': 'Data Analyst',\n",
       " 'company': 'Coding Temple',\n",
       " 'city': 'Chicago',\n",
       " 'favorite hobby': 'baseball'}"
      ]
     },
     "execution_count": 13,
     "metadata": {},
     "output_type": "execute_result"
    }
   ],
   "source": [
    "combined_dicts(keys1, keys2, values1, values2)"
   ]
  }
 ],
 "metadata": {
  "kernelspec": {
   "display_name": "Python 3",
   "language": "python",
   "name": "python3"
  },
  "language_info": {
   "codemirror_mode": {
    "name": "ipython",
    "version": 3
   },
   "file_extension": ".py",
   "mimetype": "text/x-python",
   "name": "python",
   "nbconvert_exporter": "python",
   "pygments_lexer": "ipython3",
   "version": "3.11.5"
  },
  "orig_nbformat": 4,
  "vscode": {
   "interpreter": {
    "hash": "26de051ba29f2982a8de78e945f0abaf191376122a1563185a90213a26c5da77"
   }
  }
 },
 "nbformat": 4,
 "nbformat_minor": 2
}
