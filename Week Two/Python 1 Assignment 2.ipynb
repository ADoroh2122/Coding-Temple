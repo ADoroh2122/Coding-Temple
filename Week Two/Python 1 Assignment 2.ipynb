{
 "cells": [
  {
   "attachments": {},
   "cell_type": "markdown",
   "metadata": {},
   "source": [
    "# Coding Temple's Data Analytics Course\n",
    "---\n",
    "## Python 1: Assignment 2\n",
    "---"
   ]
  },
  {
   "attachments": {},
   "cell_type": "markdown",
   "metadata": {},
   "source": [
    "### **Task 1: List Comprehension**\n",
    "Given a list as a parameter, write a function named `less_than_10`, that uses list comprehension to returns the input list with all numbers less than 10."
   ]
  },
  {
   "cell_type": "code",
   "execution_count": 3,
   "metadata": {},
   "outputs": [
    {
     "name": "stdout",
     "output_type": "stream",
     "text": [
      "[1, 2, 5, 9, 7]\n"
     ]
    }
   ],
   "source": [
    "\n",
    "a = [1,2,5,9,55,781,25,478,15,7,99]\n",
    "\n",
    "# For Loop:\n",
    "# less_than_10 = []\n",
    "\n",
    "#for number in a:\n",
    "    #if number < 10:\n",
    "        #less_than_10.append(number)\n",
    "\n",
    "#print(less_than_10)\n",
    "\n",
    "# List Comprehension\n",
    "#less_than_10 = [number for number in a if number < 10]\n",
    "#print(less_than_10)\n",
    "\n",
    "# Function:\n",
    "def less_than_10(number):\n",
    "    return [number for number in a if number < 10]\n",
    "    \n",
    "print(less_than_10([1,2,5,9,55,781,25,478,15,7,99]))\n",
    "\n"
   ]
  },
  {
   "attachments": {},
   "cell_type": "markdown",
   "metadata": {},
   "source": [
    "### **Task 1 Testing**\n",
    "This cell is to test your task 1"
   ]
  },
  {
   "cell_type": "code",
   "execution_count": 4,
   "metadata": {},
   "outputs": [],
   "source": [
    "# DO NOT EDIT THIS CELL\n",
    "a = [1,2,5,9,55,781,25,478,15,7,99]\n",
    "a_test = [1,2,5,9,7]\n",
    "assert less_than_10(a) == a_test, 'Double check that your function is working properly!'"
   ]
  },
  {
   "attachments": {},
   "cell_type": "markdown",
   "metadata": {},
   "source": [
    "### **Task 2: Merge**\n",
    "Write a function named `merge_lists` that takes two seperate lists as arguments and returns the two lists merged together AND sorted."
   ]
  },
  {
   "cell_type": "code",
   "execution_count": 5,
   "metadata": {},
   "outputs": [
    {
     "name": "stdout",
     "output_type": "stream",
     "text": [
      "[1, 2, 3, 4, 5, 6]\n"
     ]
    }
   ],
   "source": [
    "l_1 = [1,5,4]\n",
    "l_2 = [2,6,3]\n",
    "\n",
    "def merge_lists(l_1, l_2):\n",
    "    combined_list = sorted(l_1 + l_2)\n",
    "    return combined_list\n",
    "\n",
    "print(merge_lists(l_1, l_2))\n",
    "    \n"
   ]
  },
  {
   "attachments": {},
   "cell_type": "markdown",
   "metadata": {},
   "source": [
    "### **Task 2 Testing**\n",
    "This cell is to test your task 2"
   ]
  },
  {
   "cell_type": "code",
   "execution_count": 7,
   "metadata": {},
   "outputs": [],
   "source": [
    "l_1 = [1,5,4]\n",
    "l_2 = [2,6,3]\n",
    "answer = [1,2,3,4,5,6]\n",
    "assert merge_lists(l_1, l_2) == answer, 'Double Check your function is performing properly!'"
   ]
  },
  {
   "attachments": {},
   "cell_type": "markdown",
   "metadata": {},
   "source": [
    "### **Task 3.1: List Creation**\n",
    "Create a three seperate lists. Save these lists as:\n",
    "* `first_names`: List of 10 first names\n",
    "* `middle_names`: List of 10 middle names\n",
    "* `last_names`: List of 10 last names"
   ]
  },
  {
   "cell_type": "code",
   "execution_count": 8,
   "metadata": {},
   "outputs": [],
   "source": [
    "first_names = ['Johnny', 'Mark', 'Tim', 'Laura', 'Andrew', 'Tina', 'Danny', 'Aleta', 'Kevin', 'Cindy']\n",
    "middle_names = ['Marie', 'Elizabeth', 'Paul', 'Grace', 'Louise', 'Lawerence', 'Michelle', 'Jacob', 'Michael', 'Scott']\n",
    "last_names = ['Doroh', 'Rivera', 'Antal', 'Jones', 'Smith', 'Reyes', 'Cuevas', 'Sarno', 'Glaske', 'Coffin']\n"
   ]
  },
  {
   "attachments": {},
   "cell_type": "markdown",
   "metadata": {},
   "source": [
    "### **Task 3.2: Range Function**\n",
    "Using the three lists you created in the last task, build a function named `name_generator` which takes in each of these lists as an input and performs the following:\n",
    "\n",
    "* Iterates through each list using a range\n",
    "* Creates a `full_name` variable, which has a first, middle, and last name\n",
    "* Saves the `full_name` to the list `full_names`\n",
    "* Returns the `full_names` list"
   ]
  },
  {
   "cell_type": "code",
   "execution_count": 9,
   "metadata": {},
   "outputs": [
    {
     "name": "stdout",
     "output_type": "stream",
     "text": [
      "['Johnny Marie Doroh', 'Mark Elizabeth Rivera', 'Tim Paul Antal', 'Laura Grace Jones', 'Andrew Louise Smith', 'Tina Lawerence Reyes', 'Danny Michelle Cuevas', 'Aleta Jacob Sarno', 'Kevin Michael Glaske', 'Cindy Scott Coffin']\n"
     ]
    }
   ],
   "source": [
    "first_names = ['Johnny', 'Mark', 'Tim', 'Laura', 'Andrew', 'Tina', 'Danny', 'Aleta', 'Kevin', 'Cindy']\n",
    "middle_names = ['Marie', 'Elizabeth', 'Paul', 'Grace', 'Louise', 'Lawerence', 'Michelle', 'Jacob', 'Michael', 'Scott']\n",
    "last_names = ['Doroh', 'Rivera', 'Antal', 'Jones', 'Smith', 'Reyes', 'Cuevas', 'Sarno', 'Glaske', 'Coffin']\n",
    "\n",
    "def name_generator(first_names, middle_names, last_names):\n",
    "    full_names = []\n",
    "    for index in range(len(first_names)):\n",
    "        full_names.append(first_names[index] + ' ' + middle_names[index] + ' ' + last_names[index])\n",
    "    return full_names\n",
    "\n",
    "full_name = print(name_generator(first_names, middle_names, last_names))\n",
    "\n"
   ]
  },
  {
   "attachments": {},
   "cell_type": "markdown",
   "metadata": {},
   "source": [
    "### **Task 3 Testing**\n",
    "This cell is to test your task 3"
   ]
  },
  {
   "cell_type": "code",
   "execution_count": 10,
   "metadata": {},
   "outputs": [],
   "source": [
    "# DO NOT EDIT THIS CELL\n",
    "first = ['Alex', 'Brandon', 'Nick']\n",
    "middle = ['The Rock', 'The Paper', 'The Scissors']\n",
    "last = ['Lucchesi', 'Apol', 'Fuentes']\n",
    "answer = ['Alex The Rock Lucchesi','Brandon The Paper Apol','Nick The Scissors Fuentes']\n",
    "assert name_generator(first,middle,last) == answer, 'Double check that your function is performing the way it is supposed to!'"
   ]
  },
  {
   "attachments": {},
   "cell_type": "markdown",
   "metadata": {},
   "source": [
    "### **Task 4: User Functions**\n",
    "For this task, you will create a function named `user_input` which:\n",
    "* Asks a user to input their favorite activity or type 'n'\n",
    "* Repeats until the user types 'n'\n",
    "* Stores all user inputs to a list\n",
    "* Returns that list if a print statement when user types 'n'"
   ]
  },
  {
   "cell_type": "code",
   "execution_count": 129,
   "metadata": {},
   "outputs": [
    {
     "name": "stdout",
     "output_type": "stream",
     "text": [
      "['playing basketball', 'Playing Soccer', 'n']\n"
     ]
    }
   ],
   "source": [
    "def user_input(answer):\n",
    "    print(answer)\n",
    "\n",
    "responses = []\n",
    "\n",
    "while True:\n",
    "    ask = input('What is your favorite activity? Or type n')\n",
    "    responses.append(ask)\n",
    "\n",
    "    if ask == 'n':\n",
    "        break\n",
    "\n",
    "print(responses)\n",
    "\n"
   ]
  }
 ],
 "metadata": {
  "kernelspec": {
   "display_name": "Python 3",
   "language": "python",
   "name": "python3"
  },
  "language_info": {
   "codemirror_mode": {
    "name": "ipython",
    "version": 3
   },
   "file_extension": ".py",
   "mimetype": "text/x-python",
   "name": "python",
   "nbconvert_exporter": "python",
   "pygments_lexer": "ipython3",
   "version": "3.11.5"
  },
  "orig_nbformat": 4,
  "vscode": {
   "interpreter": {
    "hash": "26de051ba29f2982a8de78e945f0abaf191376122a1563185a90213a26c5da77"
   }
  }
 },
 "nbformat": 4,
 "nbformat_minor": 2
}
